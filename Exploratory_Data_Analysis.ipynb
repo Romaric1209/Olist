{
 "cells": [
  {
   "cell_type": "code",
   "execution_count": null,
   "id": "da5fb337",
   "metadata": {
    "ExecuteTime": {
     "start_time": "2025-04-30T04:42:08.821Z"
    }
   },
   "outputs": [],
   "source": [
    "from IPython.display import Image\n",
    "import numpy as np\n",
    "import pandas as pd\n",
    "import matplotlib.pyplot as plt\n",
    "import seaborn as sns\n",
    "import sweetviz as sv\n",
    "from autoviz.AutoViz_Class import AutoViz_Class"
   ]
  },
  {
   "cell_type": "markdown",
   "id": "df8d9f01",
   "metadata": {},
   "source": [
    "To understand the Olist dataset, we will focus on the data that are at the core of any e-commerce organisation business model. We will focus on orders, product purchased, customers and their reviews.<br>\n",
    "    - The order gives us information about who buys what and when.<br>\n",
    "    - The product purchased tells us what drives the revenue, it allows us to see bestselling products, poor working product, allows category level analysis and can be connected to review, returns etc.<br>\n",
    "    - The customers data allows segmentation and retention analysis<br>\n",
    "    - The reviews allows us to perform sentiment analysis, show satisfaction and dissatisfaction.<br>\n",
    "    <br>\n",
    "The **Seller** workflow ⚙\n",
    "\n",
    "The seller:\n",
    "\n",
    "1. joins Olist\n",
    "2. uploads their product catalogues\n",
    "    - (Olist) displays these catalogues to existing marketplaces (Amazon, Bahia, Walmart, ...)\n",
    "3. gets notified whenever a product is sold\n",
    "4. hands over the ordered items to third-party logistic carriers\n",
    "\n",
    "*Note: Multiple sellers can be involved in one customer's order!*\n",
    "\n",
    "The **Customer** workflow ⚙\n",
    "\n",
    "The customer:\n",
    "\n",
    "1. browses products on marketplaces (Amazon, Bahia, Walmart, ...)\n",
    "2. purchases products listed via store\n",
    "3. gets an expected date for delivery\n",
    "    - *ETA = Estimated Time of Arrival (of the orders)*\n",
    "4. receives the order(s)\n",
    "5. leaves a review\n",
    "\n",
    "*Note: Between 2016 and mid-2018, a review could be left as soon as the order was sent, meaning that a customer could potentially leave a review for a product they hadn't received yet!*\n",
    "It is showing the whole customer journey, from browsing to placing an order, receiving the product(s) he purchased to leaving a review. "
   ]
  },
  {
   "cell_type": "code",
   "execution_count": null,
   "id": "bbc9ab5f",
   "metadata": {
    "ExecuteTime": {
     "start_time": "2025-04-30T04:42:38.009Z"
    }
   },
   "outputs": [],
   "source": [
    "Image(\"Image/olist_erd.png\")"
   ]
  },
  {
   "cell_type": "code",
   "execution_count": null,
   "id": "536149f2",
   "metadata": {
    "ExecuteTime": {
     "start_time": "2025-04-30T04:42:38.472Z"
    }
   },
   "outputs": [],
   "source": [
    "# Load CSVs\n",
    "orders = pd.read_csv(\"data/olist_orders_dataset.csv\")\n",
    "order_items = pd.read_csv(\"data/olist_order_items_dataset.csv\")\n",
    "order_payments = pd.read_csv(\"data/olist_order_payments_dataset.csv\")\n",
    "order_reviews = pd.read_csv(\"data/olist_order_reviews_dataset.csv\")\n",
    "customers = pd.read_csv(\"data/olist_customers_dataset.csv\")\n",
    "products = pd.read_csv(\"data/olist_products_dataset.csv\")\n",
    "sellers = pd.read_csv(\"data/olist_sellers_dataset.csv\")\n",
    "categories = pd.read_csv(\"data/product_category_name_translation.csv\")"
   ]
  },
  {
   "cell_type": "code",
   "execution_count": null,
   "id": "cad89794",
   "metadata": {
    "ExecuteTime": {
     "start_time": "2025-04-30T04:42:39.025Z"
    }
   },
   "outputs": [],
   "source": [
    "# Merge datasets (on 'order_id' or other keys)\n",
    "df = orders.merge(order_items, on='order_id', how='left') \\\n",
    "           .merge(order_payments, on='order_id', how='left') \\\n",
    "           .merge(order_reviews, on='order_id', how='left') \\\n",
    "           .merge(customers, on='customer_id', how='left') \\\n",
    "           .merge(products, on='product_id', how='left') \\\n",
    "           .merge(sellers, on='seller_id', how='left') \\\n",
    "           .merge(categories, on='product_category_name', how='left')\n",
    "df.head()"
   ]
  },
  {
   "cell_type": "markdown",
   "id": "4184c6d7",
   "metadata": {},
   "source": [
    "### Basic EDA"
   ]
  },
  {
   "cell_type": "code",
   "execution_count": null,
   "id": "52dba471",
   "metadata": {
    "ExecuteTime": {
     "start_time": "2025-04-30T04:42:40.212Z"
    }
   },
   "outputs": [],
   "source": [
    "df.info()"
   ]
  },
  {
   "cell_type": "code",
   "execution_count": null,
   "id": "58829062",
   "metadata": {
    "ExecuteTime": {
     "start_time": "2025-04-30T04:42:40.584Z"
    }
   },
   "outputs": [],
   "source": [
    "df.describe()"
   ]
  },
  {
   "cell_type": "code",
   "execution_count": null,
   "id": "7fa7564a",
   "metadata": {
    "ExecuteTime": {
     "start_time": "2025-04-30T04:42:40.992Z"
    }
   },
   "outputs": [],
   "source": [
    "df.nunique()"
   ]
  },
  {
   "cell_type": "code",
   "execution_count": null,
   "id": "90b48272",
   "metadata": {
    "ExecuteTime": {
     "start_time": "2025-04-30T04:42:42.280Z"
    }
   },
   "outputs": [],
   "source": [
    "df.isna().sum()"
   ]
  },
  {
   "cell_type": "code",
   "execution_count": null,
   "id": "02f382c6",
   "metadata": {
    "ExecuteTime": {
     "start_time": "2025-04-30T04:42:43.676Z"
    }
   },
   "outputs": [],
   "source": [
    "df = df.drop(columns = [\"review_comment_title\", \"review_comment_message\"]) # Too many missing values."
   ]
  },
  {
   "cell_type": "code",
   "execution_count": null,
   "id": "2fc216f0",
   "metadata": {
    "ExecuteTime": {
     "start_time": "2025-04-30T04:42:45.534Z"
    }
   },
   "outputs": [],
   "source": [
    "# transform the date related data to the right format\n",
    "df[\"order_purchase_timestamp\"] = pd.to_datetime(df[\"order_purchase_timestamp\"])\n",
    "df[\"order_approved_at\"] = pd.to_datetime(df[\"order_approved_at\"])\n",
    "df[\"order_delivered_carrier_date\"] = pd.to_datetime(df[\"order_delivered_carrier_date\"])\n",
    "df[\"order_delivered_customer_date\"] = pd.to_datetime(df[\"order_delivered_customer_date\"])\n",
    "df[\"order_estimated_delivery_date\"] = pd.to_datetime(df[\"order_estimated_delivery_date\"])\n",
    "df[\"review_creation_date\"] = pd.to_datetime(df[\"review_creation_date\"])\n",
    "df[\"review_answer_timestamp\"] = pd.to_datetime(df[\"review_answer_timestamp\"])"
   ]
  },
  {
   "cell_type": "code",
   "execution_count": null,
   "id": "a930ad3f",
   "metadata": {
    "ExecuteTime": {
     "start_time": "2025-04-30T04:42:46.610Z"
    }
   },
   "outputs": [],
   "source": [
    "# To enhance the understanding of customers satisfaction, we calculate if deliveries were late or early\n",
    "df[\"order_reception_delay\"] = df[\"order_estimated_delivery_date\"] - df[\"order_delivered_customer_date\"]"
   ]
  },
  {
   "cell_type": "code",
   "execution_count": null,
   "id": "42f608be",
   "metadata": {
    "ExecuteTime": {
     "start_time": "2025-04-30T04:42:47.977Z"
    }
   },
   "outputs": [],
   "source": [
    "df.columns"
   ]
  },
  {
   "cell_type": "code",
   "execution_count": 14,
   "id": "c28b1174",
   "metadata": {
    "ExecuteTime": {
     "end_time": "2025-04-30T04:37:04.081693Z",
     "start_time": "2025-04-30T04:36:27.991093Z"
    }
   },
   "outputs": [
    {
     "data": {
      "application/vnd.jupyter.widget-view+json": {
       "model_id": "f7efa7c77b474d698053210eff9cd425",
       "version_major": 2,
       "version_minor": 0
      },
      "text/plain": [
       "                                             |     | [  0%]   00:00 -> (? left)"
      ]
     },
     "metadata": {},
     "output_type": "display_data"
    }
   ],
   "source": [
    "basic_eda_report = sv.analyze(df)"
   ]
  },
  {
   "cell_type": "code",
   "execution_count": 15,
   "id": "1b2b2ba2",
   "metadata": {
    "ExecuteTime": {
     "end_time": "2025-04-30T04:37:06.127363Z",
     "start_time": "2025-04-30T04:37:04.088689Z"
    }
   },
   "outputs": [
    {
     "name": "stdout",
     "output_type": "stream",
     "text": [
      "Report basic_eda_report.html was generated! NOTEBOOK/COLAB USERS: the web browser MAY not pop up, regardless, the report IS saved in your notebook/colab files.\n"
     ]
    }
   ],
   "source": [
    "basic_eda_report.show_html(\"basic_eda_report.html\")"
   ]
  },
  {
   "cell_type": "code",
   "execution_count": 16,
   "id": "7e1c4446",
   "metadata": {
    "ExecuteTime": {
     "end_time": "2025-04-30T04:37:06.146339Z",
     "start_time": "2025-04-30T04:37:06.135114Z"
    }
   },
   "outputs": [],
   "source": [
    "AV = AutoViz_Class()"
   ]
  },
  {
   "cell_type": "code",
   "execution_count": null,
   "id": "7f73e5d4",
   "metadata": {
    "ExecuteTime": {
     "start_time": "2025-04-30T04:36:34.990Z"
    }
   },
   "outputs": [
    {
     "name": "stdout",
     "output_type": "stream",
     "text": [
      "Shape of your Data Set loaded: (119143, 39)\n",
      "#######################################################################################\n",
      "######################## C L A S S I F Y I N G  V A R I A B L E S  ####################\n",
      "#######################################################################################\n",
      "Classifying variables in data set...\n",
      "order_reception_delay of type=timedelta64[ns] is not classified\n",
      "    Number of Numeric Columns =  15\n",
      "    Number of Integer-Categorical Columns =  1\n",
      "    Number of String-Categorical Columns =  11\n",
      "    Number of Factor-Categorical Columns =  0\n",
      "    Number of String-Boolean Columns =  0\n",
      "    Number of Numeric-Boolean Columns =  0\n",
      "    Number of Discrete String Columns =  1\n",
      "    Number of NLP String Columns =  3\n",
      "    Number of Date Time Columns =  7\n",
      "    Number of ID Columns =  0\n",
      "    Number of Columns to Delete =  0\n",
      "No of columns classified 38 does not match 39 total cols. Continuing...\n",
      " Missing columns = ['order_reception_delay']\n",
      "        No variables removed since no ID or low-information variables found in data set\n",
      "15 numeric variables in data exceeds limit, taking top 30 variables\n",
      "    List of variables selected: ['order_item_id', 'price', 'freight_value', 'payment_installments', 'payment_value', 'product_name_lenght', 'product_description_lenght', 'product_weight_g', 'product_length_cm', 'product_height_cm', 'product_width_cm', 'seller_zip_code_prefix', 'payment_sequential', 'review_score', 'product_photos_qty']\n",
      "   Total columns > 30, too numerous to print.\n",
      "To fix these data quality issues in the dataset, import FixDQ from autoviz...\n",
      "order_reception_delay of type=timedelta64[ns] is not classified\n",
      "No of columns classified 38 does not match 39 total cols. Continuing...\n",
      " Missing columns = ['order_reception_delay']\n"
     ]
    },
    {
     "data": {
      "text/html": [
       "<style type=\"text/css\">\n",
       "#T_8fa78_row0_col0, #T_8fa78_row0_col2, #T_8fa78_row0_col3, #T_8fa78_row0_col4, #T_8fa78_row0_col5, #T_8fa78_row1_col0, #T_8fa78_row1_col2, #T_8fa78_row1_col3, #T_8fa78_row1_col4, #T_8fa78_row1_col5, #T_8fa78_row2_col0, #T_8fa78_row2_col2, #T_8fa78_row2_col3, #T_8fa78_row2_col4, #T_8fa78_row2_col5, #T_8fa78_row3_col0, #T_8fa78_row3_col2, #T_8fa78_row3_col3, #T_8fa78_row3_col4, #T_8fa78_row3_col5, #T_8fa78_row4_col0, #T_8fa78_row4_col2, #T_8fa78_row4_col3, #T_8fa78_row4_col4, #T_8fa78_row4_col5, #T_8fa78_row5_col0, #T_8fa78_row5_col2, #T_8fa78_row5_col3, #T_8fa78_row5_col4, #T_8fa78_row5_col5, #T_8fa78_row6_col0, #T_8fa78_row6_col2, #T_8fa78_row6_col3, #T_8fa78_row6_col4, #T_8fa78_row6_col5, #T_8fa78_row7_col0, #T_8fa78_row7_col2, #T_8fa78_row7_col3, #T_8fa78_row7_col4, #T_8fa78_row7_col5, #T_8fa78_row8_col0, #T_8fa78_row8_col2, #T_8fa78_row8_col3, #T_8fa78_row8_col4, #T_8fa78_row8_col5, #T_8fa78_row9_col0, #T_8fa78_row9_col2, #T_8fa78_row9_col3, #T_8fa78_row9_col4, #T_8fa78_row9_col5, #T_8fa78_row10_col0, #T_8fa78_row10_col2, #T_8fa78_row10_col3, #T_8fa78_row10_col4, #T_8fa78_row10_col5, #T_8fa78_row11_col0, #T_8fa78_row11_col2, #T_8fa78_row11_col3, #T_8fa78_row11_col4, #T_8fa78_row11_col5, #T_8fa78_row12_col0, #T_8fa78_row12_col2, #T_8fa78_row12_col3, #T_8fa78_row12_col4, #T_8fa78_row12_col5, #T_8fa78_row13_col0, #T_8fa78_row13_col2, #T_8fa78_row13_col3, #T_8fa78_row13_col4, #T_8fa78_row13_col5, #T_8fa78_row14_col0, #T_8fa78_row14_col2, #T_8fa78_row14_col3, #T_8fa78_row14_col4, #T_8fa78_row14_col5, #T_8fa78_row15_col0, #T_8fa78_row15_col2, #T_8fa78_row15_col3, #T_8fa78_row15_col4, #T_8fa78_row15_col5, #T_8fa78_row16_col0, #T_8fa78_row16_col2, #T_8fa78_row16_col3, #T_8fa78_row16_col4, #T_8fa78_row16_col5, #T_8fa78_row17_col0, #T_8fa78_row17_col2, #T_8fa78_row17_col3, #T_8fa78_row17_col4, #T_8fa78_row17_col5, #T_8fa78_row18_col0, #T_8fa78_row18_col2, #T_8fa78_row18_col3, #T_8fa78_row18_col4, #T_8fa78_row18_col5, #T_8fa78_row19_col0, #T_8fa78_row19_col2, #T_8fa78_row19_col3, #T_8fa78_row19_col4, #T_8fa78_row19_col5, #T_8fa78_row20_col0, #T_8fa78_row20_col2, #T_8fa78_row20_col3, #T_8fa78_row20_col4, #T_8fa78_row20_col5, #T_8fa78_row21_col0, #T_8fa78_row21_col2, #T_8fa78_row21_col3, #T_8fa78_row21_col4, #T_8fa78_row21_col5, #T_8fa78_row22_col0, #T_8fa78_row22_col2, #T_8fa78_row22_col3, #T_8fa78_row22_col4, #T_8fa78_row22_col5, #T_8fa78_row23_col0, #T_8fa78_row23_col2, #T_8fa78_row23_col3, #T_8fa78_row23_col4, #T_8fa78_row23_col5, #T_8fa78_row24_col0, #T_8fa78_row24_col2, #T_8fa78_row24_col3, #T_8fa78_row24_col4, #T_8fa78_row24_col5, #T_8fa78_row25_col0, #T_8fa78_row25_col2, #T_8fa78_row25_col3, #T_8fa78_row25_col4, #T_8fa78_row25_col5, #T_8fa78_row26_col0, #T_8fa78_row26_col2, #T_8fa78_row26_col3, #T_8fa78_row26_col4, #T_8fa78_row26_col5, #T_8fa78_row27_col0, #T_8fa78_row27_col2, #T_8fa78_row27_col3, #T_8fa78_row27_col4, #T_8fa78_row27_col5, #T_8fa78_row28_col0, #T_8fa78_row28_col2, #T_8fa78_row28_col3, #T_8fa78_row28_col4, #T_8fa78_row28_col5, #T_8fa78_row29_col0, #T_8fa78_row29_col2, #T_8fa78_row29_col3, #T_8fa78_row29_col4, #T_8fa78_row29_col5, #T_8fa78_row30_col0, #T_8fa78_row30_col2, #T_8fa78_row30_col3, #T_8fa78_row30_col4, #T_8fa78_row30_col5, #T_8fa78_row31_col0, #T_8fa78_row31_col2, #T_8fa78_row31_col3, #T_8fa78_row31_col4, #T_8fa78_row31_col5, #T_8fa78_row32_col0, #T_8fa78_row32_col2, #T_8fa78_row32_col3, #T_8fa78_row32_col4, #T_8fa78_row32_col5, #T_8fa78_row33_col0, #T_8fa78_row33_col2, #T_8fa78_row33_col3, #T_8fa78_row33_col4, #T_8fa78_row33_col5, #T_8fa78_row34_col0, #T_8fa78_row34_col2, #T_8fa78_row34_col3, #T_8fa78_row34_col4, #T_8fa78_row34_col5, #T_8fa78_row35_col0, #T_8fa78_row35_col2, #T_8fa78_row35_col3, #T_8fa78_row35_col4, #T_8fa78_row35_col5, #T_8fa78_row36_col0, #T_8fa78_row36_col2, #T_8fa78_row36_col3, #T_8fa78_row36_col4, #T_8fa78_row36_col5, #T_8fa78_row37_col0, #T_8fa78_row37_col2, #T_8fa78_row37_col3, #T_8fa78_row37_col4, #T_8fa78_row37_col5, #T_8fa78_row38_col0, #T_8fa78_row38_col2, #T_8fa78_row38_col3, #T_8fa78_row38_col4, #T_8fa78_row38_col5 {\n",
       "  font-family: Segoe UI;\n",
       "}\n",
       "#T_8fa78_row0_col1, #T_8fa78_row1_col1, #T_8fa78_row2_col1, #T_8fa78_row3_col1, #T_8fa78_row7_col1, #T_8fa78_row14_col1, #T_8fa78_row15_col1, #T_8fa78_row16_col1, #T_8fa78_row17_col1, #T_8fa78_row22_col1, #T_8fa78_row23_col1, #T_8fa78_row24_col1, #T_8fa78_row25_col1 {\n",
       "  background-color: #fff5f0;\n",
       "  color: #000000;\n",
       "  font-family: Segoe UI;\n",
       "}\n",
       "#T_8fa78_row4_col1 {\n",
       "  background-color: #ffece4;\n",
       "  color: #000000;\n",
       "  font-family: Segoe UI;\n",
       "}\n",
       "#T_8fa78_row5_col1 {\n",
       "  background-color: #f0402f;\n",
       "  color: #f1f1f1;\n",
       "  font-family: Segoe UI;\n",
       "}\n",
       "#T_8fa78_row6_col1, #T_8fa78_row38_col1 {\n",
       "  background-color: #67000d;\n",
       "  color: #f1f1f1;\n",
       "  font-family: Segoe UI;\n",
       "}\n",
       "#T_8fa78_row8_col1, #T_8fa78_row9_col1, #T_8fa78_row10_col1, #T_8fa78_row11_col1, #T_8fa78_row12_col1, #T_8fa78_row13_col1, #T_8fa78_row34_col1, #T_8fa78_row35_col1, #T_8fa78_row36_col1 {\n",
       "  background-color: #fcbda4;\n",
       "  color: #000000;\n",
       "  font-family: Segoe UI;\n",
       "}\n",
       "#T_8fa78_row18_col1, #T_8fa78_row19_col1, #T_8fa78_row20_col1, #T_8fa78_row21_col1 {\n",
       "  background-color: #fcae92;\n",
       "  color: #000000;\n",
       "  font-family: Segoe UI;\n",
       "}\n",
       "#T_8fa78_row26_col1, #T_8fa78_row27_col1, #T_8fa78_row28_col1, #T_8fa78_row29_col1 {\n",
       "  background-color: #cc191e;\n",
       "  color: #f1f1f1;\n",
       "  font-family: Segoe UI;\n",
       "}\n",
       "#T_8fa78_row30_col1, #T_8fa78_row31_col1, #T_8fa78_row32_col1, #T_8fa78_row33_col1 {\n",
       "  background-color: #fcbca2;\n",
       "  color: #000000;\n",
       "  font-family: Segoe UI;\n",
       "}\n",
       "#T_8fa78_row37_col1 {\n",
       "  background-color: #ca181d;\n",
       "  color: #f1f1f1;\n",
       "  font-family: Segoe UI;\n",
       "}\n",
       "</style>\n",
       "<table id=\"T_8fa78\">\n",
       "  <thead>\n",
       "    <tr>\n",
       "      <th class=\"blank level0\" >&nbsp;</th>\n",
       "      <th id=\"T_8fa78_level0_col0\" class=\"col_heading level0 col0\" >Data Type</th>\n",
       "      <th id=\"T_8fa78_level0_col1\" class=\"col_heading level0 col1\" >Missing Values%</th>\n",
       "      <th id=\"T_8fa78_level0_col2\" class=\"col_heading level0 col2\" >Unique Values%</th>\n",
       "      <th id=\"T_8fa78_level0_col3\" class=\"col_heading level0 col3\" >Minimum Value</th>\n",
       "      <th id=\"T_8fa78_level0_col4\" class=\"col_heading level0 col4\" >Maximum Value</th>\n",
       "      <th id=\"T_8fa78_level0_col5\" class=\"col_heading level0 col5\" >DQ Issue</th>\n",
       "    </tr>\n",
       "  </thead>\n",
       "  <tbody>\n",
       "    <tr>\n",
       "      <th id=\"T_8fa78_level0_row0\" class=\"row_heading level0 row0\" >order_id</th>\n",
       "      <td id=\"T_8fa78_row0_col0\" class=\"data row0 col0\" >object</td>\n",
       "      <td id=\"T_8fa78_row0_col1\" class=\"data row0 col1\" >0.000000</td>\n",
       "      <td id=\"T_8fa78_row0_col2\" class=\"data row0 col2\" >83</td>\n",
       "      <td id=\"T_8fa78_row0_col3\" class=\"data row0 col3\" ></td>\n",
       "      <td id=\"T_8fa78_row0_col4\" class=\"data row0 col4\" ></td>\n",
       "      <td id=\"T_8fa78_row0_col5\" class=\"data row0 col5\" >No issue</td>\n",
       "    </tr>\n",
       "    <tr>\n",
       "      <th id=\"T_8fa78_level0_row1\" class=\"row_heading level0 row1\" >customer_id</th>\n",
       "      <td id=\"T_8fa78_row1_col0\" class=\"data row1 col0\" >object</td>\n",
       "      <td id=\"T_8fa78_row1_col1\" class=\"data row1 col1\" >0.000000</td>\n",
       "      <td id=\"T_8fa78_row1_col2\" class=\"data row1 col2\" >83</td>\n",
       "      <td id=\"T_8fa78_row1_col3\" class=\"data row1 col3\" ></td>\n",
       "      <td id=\"T_8fa78_row1_col4\" class=\"data row1 col4\" ></td>\n",
       "      <td id=\"T_8fa78_row1_col5\" class=\"data row1 col5\" >No issue</td>\n",
       "    </tr>\n",
       "    <tr>\n",
       "      <th id=\"T_8fa78_level0_row2\" class=\"row_heading level0 row2\" >order_status</th>\n",
       "      <td id=\"T_8fa78_row2_col0\" class=\"data row2 col0\" >object</td>\n",
       "      <td id=\"T_8fa78_row2_col1\" class=\"data row2 col1\" >0.000000</td>\n",
       "      <td id=\"T_8fa78_row2_col2\" class=\"data row2 col2\" >0</td>\n",
       "      <td id=\"T_8fa78_row2_col3\" class=\"data row2 col3\" ></td>\n",
       "      <td id=\"T_8fa78_row2_col4\" class=\"data row2 col4\" ></td>\n",
       "      <td id=\"T_8fa78_row2_col5\" class=\"data row2 col5\" >6 rare categories: ['canceled', 'unavailable', 'invoiced', 'processing', 'created', 'approved']. Group them into a single category or drop the categories.</td>\n",
       "    </tr>\n",
       "    <tr>\n",
       "      <th id=\"T_8fa78_level0_row3\" class=\"row_heading level0 row3\" >order_purchase_timestamp</th>\n",
       "      <td id=\"T_8fa78_row3_col0\" class=\"data row3 col0\" >datetime64[ns]</td>\n",
       "      <td id=\"T_8fa78_row3_col1\" class=\"data row3 col1\" >0.000000</td>\n",
       "      <td id=\"T_8fa78_row3_col2\" class=\"data row3 col2\" >82</td>\n",
       "      <td id=\"T_8fa78_row3_col3\" class=\"data row3 col3\" ></td>\n",
       "      <td id=\"T_8fa78_row3_col4\" class=\"data row3 col4\" ></td>\n",
       "      <td id=\"T_8fa78_row3_col5\" class=\"data row3 col5\" >Possible date-time colum: transform before modeling step.</td>\n",
       "    </tr>\n",
       "    <tr>\n",
       "      <th id=\"T_8fa78_level0_row4\" class=\"row_heading level0 row4\" >order_approved_at</th>\n",
       "      <td id=\"T_8fa78_row4_col0\" class=\"data row4 col0\" >datetime64[ns]</td>\n",
       "      <td id=\"T_8fa78_row4_col1\" class=\"data row4 col1\" >0.148561</td>\n",
       "      <td id=\"T_8fa78_row4_col2\" class=\"data row4 col2\" >76</td>\n",
       "      <td id=\"T_8fa78_row4_col3\" class=\"data row4 col3\" ></td>\n",
       "      <td id=\"T_8fa78_row4_col4\" class=\"data row4 col4\" ></td>\n",
       "      <td id=\"T_8fa78_row4_col5\" class=\"data row4 col5\" >Possible date-time colum: transform before modeling step., 177 missing values. Impute them with mean, median, mode, or a constant value such as 123., Mixed dtypes: has 2 different data types: </td>\n",
       "    </tr>\n",
       "    <tr>\n",
       "      <th id=\"T_8fa78_level0_row5\" class=\"row_heading level0 row5\" >order_delivered_carrier_date</th>\n",
       "      <td id=\"T_8fa78_row5_col0\" class=\"data row5 col0\" >datetime64[ns]</td>\n",
       "      <td id=\"T_8fa78_row5_col1\" class=\"data row5 col1\" >1.750837</td>\n",
       "      <td id=\"T_8fa78_row5_col2\" class=\"data row5 col2\" >68</td>\n",
       "      <td id=\"T_8fa78_row5_col3\" class=\"data row5 col3\" ></td>\n",
       "      <td id=\"T_8fa78_row5_col4\" class=\"data row5 col4\" ></td>\n",
       "      <td id=\"T_8fa78_row5_col5\" class=\"data row5 col5\" >Possible date-time colum: transform before modeling step., 2086 missing values. Impute them with mean, median, mode, or a constant value such as 123., Mixed dtypes: has 2 different data types: </td>\n",
       "    </tr>\n",
       "    <tr>\n",
       "      <th id=\"T_8fa78_level0_row6\" class=\"row_heading level0 row6\" >order_delivered_customer_date</th>\n",
       "      <td id=\"T_8fa78_row6_col0\" class=\"data row6 col0\" >datetime64[ns]</td>\n",
       "      <td id=\"T_8fa78_row6_col1\" class=\"data row6 col1\" >2.871339</td>\n",
       "      <td id=\"T_8fa78_row6_col2\" class=\"data row6 col2\" >80</td>\n",
       "      <td id=\"T_8fa78_row6_col3\" class=\"data row6 col3\" ></td>\n",
       "      <td id=\"T_8fa78_row6_col4\" class=\"data row6 col4\" ></td>\n",
       "      <td id=\"T_8fa78_row6_col5\" class=\"data row6 col5\" >Possible date-time colum: transform before modeling step., 3421 missing values. Impute them with mean, median, mode, or a constant value such as 123., Mixed dtypes: has 2 different data types: </td>\n",
       "    </tr>\n",
       "    <tr>\n",
       "      <th id=\"T_8fa78_level0_row7\" class=\"row_heading level0 row7\" >order_estimated_delivery_date</th>\n",
       "      <td id=\"T_8fa78_row7_col0\" class=\"data row7 col0\" >datetime64[ns]</td>\n",
       "      <td id=\"T_8fa78_row7_col1\" class=\"data row7 col1\" >0.000000</td>\n",
       "      <td id=\"T_8fa78_row7_col2\" class=\"data row7 col2\" >0</td>\n",
       "      <td id=\"T_8fa78_row7_col3\" class=\"data row7 col3\" ></td>\n",
       "      <td id=\"T_8fa78_row7_col4\" class=\"data row7 col4\" ></td>\n",
       "      <td id=\"T_8fa78_row7_col5\" class=\"data row7 col5\" >Possible date-time colum: transform before modeling step.</td>\n",
       "    </tr>\n",
       "    <tr>\n",
       "      <th id=\"T_8fa78_level0_row8\" class=\"row_heading level0 row8\" >order_item_id</th>\n",
       "      <td id=\"T_8fa78_row8_col0\" class=\"data row8 col0\" >float64</td>\n",
       "      <td id=\"T_8fa78_row8_col1\" class=\"data row8 col1\" >0.699160</td>\n",
       "      <td id=\"T_8fa78_row8_col2\" class=\"data row8 col2\" >NA</td>\n",
       "      <td id=\"T_8fa78_row8_col3\" class=\"data row8 col3\" >1.000000</td>\n",
       "      <td id=\"T_8fa78_row8_col4\" class=\"data row8 col4\" >21.000000</td>\n",
       "      <td id=\"T_8fa78_row8_col5\" class=\"data row8 col5\" >833 missing values. Impute them with mean, median, mode, or a constant value such as 123., Column has 14665 outliers greater than upper bound (1.00) or lower than lower bound(1.00). Cap them or remove them.</td>\n",
       "    </tr>\n",
       "    <tr>\n",
       "      <th id=\"T_8fa78_level0_row9\" class=\"row_heading level0 row9\" >product_id</th>\n",
       "      <td id=\"T_8fa78_row9_col0\" class=\"data row9 col0\" >object</td>\n",
       "      <td id=\"T_8fa78_row9_col1\" class=\"data row9 col1\" >0.699160</td>\n",
       "      <td id=\"T_8fa78_row9_col2\" class=\"data row9 col2\" >27</td>\n",
       "      <td id=\"T_8fa78_row9_col3\" class=\"data row9 col3\" ></td>\n",
       "      <td id=\"T_8fa78_row9_col4\" class=\"data row9 col4\" ></td>\n",
       "      <td id=\"T_8fa78_row9_col5\" class=\"data row9 col5\" >833 missing values. Impute them with mean, median, mode, or a constant value such as 123., Mixed dtypes: has 2 different data types:  object, float,</td>\n",
       "    </tr>\n",
       "    <tr>\n",
       "      <th id=\"T_8fa78_level0_row10\" class=\"row_heading level0 row10\" >seller_id</th>\n",
       "      <td id=\"T_8fa78_row10_col0\" class=\"data row10 col0\" >object</td>\n",
       "      <td id=\"T_8fa78_row10_col1\" class=\"data row10 col1\" >0.699160</td>\n",
       "      <td id=\"T_8fa78_row10_col2\" class=\"data row10 col2\" >2</td>\n",
       "      <td id=\"T_8fa78_row10_col3\" class=\"data row10 col3\" ></td>\n",
       "      <td id=\"T_8fa78_row10_col4\" class=\"data row10 col4\" ></td>\n",
       "      <td id=\"T_8fa78_row10_col5\" class=\"data row10 col5\" >833 missing values. Impute them with mean, median, mode, or a constant value such as 123., Mixed dtypes: has 2 different data types:  object, float,</td>\n",
       "    </tr>\n",
       "    <tr>\n",
       "      <th id=\"T_8fa78_level0_row11\" class=\"row_heading level0 row11\" >shipping_limit_date</th>\n",
       "      <td id=\"T_8fa78_row11_col0\" class=\"data row11 col0\" >object</td>\n",
       "      <td id=\"T_8fa78_row11_col1\" class=\"data row11 col1\" >0.699160</td>\n",
       "      <td id=\"T_8fa78_row11_col2\" class=\"data row11 col2\" >78</td>\n",
       "      <td id=\"T_8fa78_row11_col3\" class=\"data row11 col3\" ></td>\n",
       "      <td id=\"T_8fa78_row11_col4\" class=\"data row11 col4\" ></td>\n",
       "      <td id=\"T_8fa78_row11_col5\" class=\"data row11 col5\" >833 missing values. Impute them with mean, median, mode, or a constant value such as 123., Mixed dtypes: has 2 different data types:  object, float,</td>\n",
       "    </tr>\n",
       "    <tr>\n",
       "      <th id=\"T_8fa78_level0_row12\" class=\"row_heading level0 row12\" >price</th>\n",
       "      <td id=\"T_8fa78_row12_col0\" class=\"data row12 col0\" >float64</td>\n",
       "      <td id=\"T_8fa78_row12_col1\" class=\"data row12 col1\" >0.699160</td>\n",
       "      <td id=\"T_8fa78_row12_col2\" class=\"data row12 col2\" >NA</td>\n",
       "      <td id=\"T_8fa78_row12_col3\" class=\"data row12 col3\" >0.850000</td>\n",
       "      <td id=\"T_8fa78_row12_col4\" class=\"data row12 col4\" >6735.000000</td>\n",
       "      <td id=\"T_8fa78_row12_col5\" class=\"data row12 col5\" >833 missing values. Impute them with mean, median, mode, or a constant value such as 123., Column has 8867 outliers greater than upper bound (277.40) or lower than lower bound(-102.60). Cap them or remove them.</td>\n",
       "    </tr>\n",
       "    <tr>\n",
       "      <th id=\"T_8fa78_level0_row13\" class=\"row_heading level0 row13\" >freight_value</th>\n",
       "      <td id=\"T_8fa78_row13_col0\" class=\"data row13 col0\" >float64</td>\n",
       "      <td id=\"T_8fa78_row13_col1\" class=\"data row13 col1\" >0.699160</td>\n",
       "      <td id=\"T_8fa78_row13_col2\" class=\"data row13 col2\" >NA</td>\n",
       "      <td id=\"T_8fa78_row13_col3\" class=\"data row13 col3\" >0.000000</td>\n",
       "      <td id=\"T_8fa78_row13_col4\" class=\"data row13 col4\" >409.680000</td>\n",
       "      <td id=\"T_8fa78_row13_col5\" class=\"data row13 col5\" >833 missing values. Impute them with mean, median, mode, or a constant value such as 123., Column has 12740 outliers greater than upper bound (33.33) or lower than lower bound(0.93). Cap them or remove them.</td>\n",
       "    </tr>\n",
       "    <tr>\n",
       "      <th id=\"T_8fa78_level0_row14\" class=\"row_heading level0 row14\" >payment_sequential</th>\n",
       "      <td id=\"T_8fa78_row14_col0\" class=\"data row14 col0\" >float64</td>\n",
       "      <td id=\"T_8fa78_row14_col1\" class=\"data row14 col1\" >0.002518</td>\n",
       "      <td id=\"T_8fa78_row14_col2\" class=\"data row14 col2\" >NA</td>\n",
       "      <td id=\"T_8fa78_row14_col3\" class=\"data row14 col3\" >1.000000</td>\n",
       "      <td id=\"T_8fa78_row14_col4\" class=\"data row14 col4\" >29.000000</td>\n",
       "      <td id=\"T_8fa78_row14_col5\" class=\"data row14 col5\" >3 missing values. Impute them with mean, median, mode, or a constant value such as 123., Column has 5141 outliers greater than upper bound (1.00) or lower than lower bound(1.00). Cap them or remove them.</td>\n",
       "    </tr>\n",
       "    <tr>\n",
       "      <th id=\"T_8fa78_level0_row15\" class=\"row_heading level0 row15\" >payment_type</th>\n",
       "      <td id=\"T_8fa78_row15_col0\" class=\"data row15 col0\" >object</td>\n",
       "      <td id=\"T_8fa78_row15_col1\" class=\"data row15 col1\" >0.002518</td>\n",
       "      <td id=\"T_8fa78_row15_col2\" class=\"data row15 col2\" >0</td>\n",
       "      <td id=\"T_8fa78_row15_col3\" class=\"data row15 col3\" ></td>\n",
       "      <td id=\"T_8fa78_row15_col4\" class=\"data row15 col4\" ></td>\n",
       "      <td id=\"T_8fa78_row15_col5\" class=\"data row15 col5\" >3 missing values. Impute them with mean, median, mode, or a constant value such as 123., 1 rare categories: ['not_defined']. Group them into a single category or drop the categories., Mixed dtypes: has 2 different data types:  object, float,</td>\n",
       "    </tr>\n",
       "    <tr>\n",
       "      <th id=\"T_8fa78_level0_row16\" class=\"row_heading level0 row16\" >payment_installments</th>\n",
       "      <td id=\"T_8fa78_row16_col0\" class=\"data row16 col0\" >float64</td>\n",
       "      <td id=\"T_8fa78_row16_col1\" class=\"data row16 col1\" >0.002518</td>\n",
       "      <td id=\"T_8fa78_row16_col2\" class=\"data row16 col2\" >NA</td>\n",
       "      <td id=\"T_8fa78_row16_col3\" class=\"data row16 col3\" >0.000000</td>\n",
       "      <td id=\"T_8fa78_row16_col4\" class=\"data row16 col4\" >24.000000</td>\n",
       "      <td id=\"T_8fa78_row16_col5\" class=\"data row16 col5\" >3 missing values. Impute them with mean, median, mode, or a constant value such as 123., Column has 8153 outliers greater than upper bound (8.50) or lower than lower bound(-3.50). Cap them or remove them.</td>\n",
       "    </tr>\n",
       "    <tr>\n",
       "      <th id=\"T_8fa78_level0_row17\" class=\"row_heading level0 row17\" >payment_value</th>\n",
       "      <td id=\"T_8fa78_row17_col0\" class=\"data row17 col0\" >float64</td>\n",
       "      <td id=\"T_8fa78_row17_col1\" class=\"data row17 col1\" >0.002518</td>\n",
       "      <td id=\"T_8fa78_row17_col2\" class=\"data row17 col2\" >NA</td>\n",
       "      <td id=\"T_8fa78_row17_col3\" class=\"data row17 col3\" >0.000000</td>\n",
       "      <td id=\"T_8fa78_row17_col4\" class=\"data row17 col4\" >13664.080000</td>\n",
       "      <td id=\"T_8fa78_row17_col5\" class=\"data row17 col5\" >3 missing values. Impute them with mean, median, mode, or a constant value such as 123., Column has 9638 outliers greater than upper bound (381.83) or lower than lower bound(-131.74). Cap them or remove them.</td>\n",
       "    </tr>\n",
       "    <tr>\n",
       "      <th id=\"T_8fa78_level0_row18\" class=\"row_heading level0 row18\" >review_id</th>\n",
       "      <td id=\"T_8fa78_row18_col0\" class=\"data row18 col0\" >object</td>\n",
       "      <td id=\"T_8fa78_row18_col1\" class=\"data row18 col1\" >0.836810</td>\n",
       "      <td id=\"T_8fa78_row18_col2\" class=\"data row18 col2\" >82</td>\n",
       "      <td id=\"T_8fa78_row18_col3\" class=\"data row18 col3\" ></td>\n",
       "      <td id=\"T_8fa78_row18_col4\" class=\"data row18 col4\" ></td>\n",
       "      <td id=\"T_8fa78_row18_col5\" class=\"data row18 col5\" >997 missing values. Impute them with mean, median, mode, or a constant value such as 123., Mixed dtypes: has 2 different data types:  object, float,</td>\n",
       "    </tr>\n",
       "    <tr>\n",
       "      <th id=\"T_8fa78_level0_row19\" class=\"row_heading level0 row19\" >review_score</th>\n",
       "      <td id=\"T_8fa78_row19_col0\" class=\"data row19 col0\" >float64</td>\n",
       "      <td id=\"T_8fa78_row19_col1\" class=\"data row19 col1\" >0.836810</td>\n",
       "      <td id=\"T_8fa78_row19_col2\" class=\"data row19 col2\" >NA</td>\n",
       "      <td id=\"T_8fa78_row19_col3\" class=\"data row19 col3\" >1.000000</td>\n",
       "      <td id=\"T_8fa78_row19_col4\" class=\"data row19 col4\" >5.000000</td>\n",
       "      <td id=\"T_8fa78_row19_col5\" class=\"data row19 col5\" >997 missing values. Impute them with mean, median, mode, or a constant value such as 123., Column has 19590 outliers greater than upper bound (6.50) or lower than lower bound(2.50). Cap them or remove them.</td>\n",
       "    </tr>\n",
       "    <tr>\n",
       "      <th id=\"T_8fa78_level0_row20\" class=\"row_heading level0 row20\" >review_creation_date</th>\n",
       "      <td id=\"T_8fa78_row20_col0\" class=\"data row20 col0\" >datetime64[ns]</td>\n",
       "      <td id=\"T_8fa78_row20_col1\" class=\"data row20 col1\" >0.836810</td>\n",
       "      <td id=\"T_8fa78_row20_col2\" class=\"data row20 col2\" >0</td>\n",
       "      <td id=\"T_8fa78_row20_col3\" class=\"data row20 col3\" ></td>\n",
       "      <td id=\"T_8fa78_row20_col4\" class=\"data row20 col4\" ></td>\n",
       "      <td id=\"T_8fa78_row20_col5\" class=\"data row20 col5\" >Possible date-time colum: transform before modeling step., 997 missing values. Impute them with mean, median, mode, or a constant value such as 123., Mixed dtypes: has 2 different data types: </td>\n",
       "    </tr>\n",
       "    <tr>\n",
       "      <th id=\"T_8fa78_level0_row21\" class=\"row_heading level0 row21\" >review_answer_timestamp</th>\n",
       "      <td id=\"T_8fa78_row21_col0\" class=\"data row21 col0\" >datetime64[ns]</td>\n",
       "      <td id=\"T_8fa78_row21_col1\" class=\"data row21 col1\" >0.836810</td>\n",
       "      <td id=\"T_8fa78_row21_col2\" class=\"data row21 col2\" >82</td>\n",
       "      <td id=\"T_8fa78_row21_col3\" class=\"data row21 col3\" ></td>\n",
       "      <td id=\"T_8fa78_row21_col4\" class=\"data row21 col4\" ></td>\n",
       "      <td id=\"T_8fa78_row21_col5\" class=\"data row21 col5\" >Possible date-time colum: transform before modeling step., 997 missing values. Impute them with mean, median, mode, or a constant value such as 123., Mixed dtypes: has 2 different data types: </td>\n",
       "    </tr>\n",
       "    <tr>\n",
       "      <th id=\"T_8fa78_level0_row22\" class=\"row_heading level0 row22\" >customer_unique_id</th>\n",
       "      <td id=\"T_8fa78_row22_col0\" class=\"data row22 col0\" >object</td>\n",
       "      <td id=\"T_8fa78_row22_col1\" class=\"data row22 col1\" >0.000000</td>\n",
       "      <td id=\"T_8fa78_row22_col2\" class=\"data row22 col2\" >80</td>\n",
       "      <td id=\"T_8fa78_row22_col3\" class=\"data row22 col3\" ></td>\n",
       "      <td id=\"T_8fa78_row22_col4\" class=\"data row22 col4\" ></td>\n",
       "      <td id=\"T_8fa78_row22_col5\" class=\"data row22 col5\" >No issue</td>\n",
       "    </tr>\n",
       "    <tr>\n",
       "      <th id=\"T_8fa78_level0_row23\" class=\"row_heading level0 row23\" >customer_zip_code_prefix</th>\n",
       "      <td id=\"T_8fa78_row23_col0\" class=\"data row23 col0\" >int64</td>\n",
       "      <td id=\"T_8fa78_row23_col1\" class=\"data row23 col1\" >0.000000</td>\n",
       "      <td id=\"T_8fa78_row23_col2\" class=\"data row23 col2\" >12</td>\n",
       "      <td id=\"T_8fa78_row23_col3\" class=\"data row23 col3\" >1003.000000</td>\n",
       "      <td id=\"T_8fa78_row23_col4\" class=\"data row23 col4\" >99990.000000</td>\n",
       "      <td id=\"T_8fa78_row23_col5\" class=\"data row23 col5\" >No issue</td>\n",
       "    </tr>\n",
       "    <tr>\n",
       "      <th id=\"T_8fa78_level0_row24\" class=\"row_heading level0 row24\" >customer_city</th>\n",
       "      <td id=\"T_8fa78_row24_col0\" class=\"data row24 col0\" >object</td>\n",
       "      <td id=\"T_8fa78_row24_col1\" class=\"data row24 col1\" >0.000000</td>\n",
       "      <td id=\"T_8fa78_row24_col2\" class=\"data row24 col2\" >3</td>\n",
       "      <td id=\"T_8fa78_row24_col3\" class=\"data row24 col3\" ></td>\n",
       "      <td id=\"T_8fa78_row24_col4\" class=\"data row24 col4\" ></td>\n",
       "      <td id=\"T_8fa78_row24_col5\" class=\"data row24 col5\" >No issue</td>\n",
       "    </tr>\n",
       "    <tr>\n",
       "      <th id=\"T_8fa78_level0_row25\" class=\"row_heading level0 row25\" >customer_state</th>\n",
       "      <td id=\"T_8fa78_row25_col0\" class=\"data row25 col0\" >object</td>\n",
       "      <td id=\"T_8fa78_row25_col1\" class=\"data row25 col1\" >0.000000</td>\n",
       "      <td id=\"T_8fa78_row25_col2\" class=\"data row25 col2\" >0</td>\n",
       "      <td id=\"T_8fa78_row25_col3\" class=\"data row25 col3\" ></td>\n",
       "      <td id=\"T_8fa78_row25_col4\" class=\"data row25 col4\" ></td>\n",
       "      <td id=\"T_8fa78_row25_col5\" class=\"data row25 col5\" >15 rare categories: Too many to list. Group them into a single category or drop the categories.</td>\n",
       "    </tr>\n",
       "    <tr>\n",
       "      <th id=\"T_8fa78_level0_row26\" class=\"row_heading level0 row26\" >product_category_name</th>\n",
       "      <td id=\"T_8fa78_row26_col0\" class=\"data row26 col0\" >object</td>\n",
       "      <td id=\"T_8fa78_row26_col1\" class=\"data row26 col1\" >2.133571</td>\n",
       "      <td id=\"T_8fa78_row26_col2\" class=\"data row26 col2\" >0</td>\n",
       "      <td id=\"T_8fa78_row26_col3\" class=\"data row26 col3\" ></td>\n",
       "      <td id=\"T_8fa78_row26_col4\" class=\"data row26 col4\" ></td>\n",
       "      <td id=\"T_8fa78_row26_col5\" class=\"data row26 col5\" >2542 missing values. Impute them with mean, median, mode, or a constant value such as 123., 53 rare categories: Too many to list. Group them into a single category or drop the categories., Mixed dtypes: has 2 different data types:  object, float,</td>\n",
       "    </tr>\n",
       "    <tr>\n",
       "      <th id=\"T_8fa78_level0_row27\" class=\"row_heading level0 row27\" >product_name_lenght</th>\n",
       "      <td id=\"T_8fa78_row27_col0\" class=\"data row27 col0\" >float64</td>\n",
       "      <td id=\"T_8fa78_row27_col1\" class=\"data row27 col1\" >2.133571</td>\n",
       "      <td id=\"T_8fa78_row27_col2\" class=\"data row27 col2\" >NA</td>\n",
       "      <td id=\"T_8fa78_row27_col3\" class=\"data row27 col3\" >5.000000</td>\n",
       "      <td id=\"T_8fa78_row27_col4\" class=\"data row27 col4\" >76.000000</td>\n",
       "      <td id=\"T_8fa78_row27_col5\" class=\"data row27 col5\" >2542 missing values. Impute them with mean, median, mode, or a constant value such as 123., Column has 804 outliers greater than upper bound (79.50) or lower than lower bound(19.50). Cap them or remove them.</td>\n",
       "    </tr>\n",
       "    <tr>\n",
       "      <th id=\"T_8fa78_level0_row28\" class=\"row_heading level0 row28\" >product_description_lenght</th>\n",
       "      <td id=\"T_8fa78_row28_col0\" class=\"data row28 col0\" >float64</td>\n",
       "      <td id=\"T_8fa78_row28_col1\" class=\"data row28 col1\" >2.133571</td>\n",
       "      <td id=\"T_8fa78_row28_col2\" class=\"data row28 col2\" >NA</td>\n",
       "      <td id=\"T_8fa78_row28_col3\" class=\"data row28 col3\" >4.000000</td>\n",
       "      <td id=\"T_8fa78_row28_col4\" class=\"data row28 col4\" >3992.000000</td>\n",
       "      <td id=\"T_8fa78_row28_col5\" class=\"data row28 col5\" >2542 missing values. Impute them with mean, median, mode, or a constant value such as 123., Column has 7382 outliers greater than upper bound (1938.50) or lower than lower bound(-609.50). Cap them or remove them.</td>\n",
       "    </tr>\n",
       "    <tr>\n",
       "      <th id=\"T_8fa78_level0_row29\" class=\"row_heading level0 row29\" >product_photos_qty</th>\n",
       "      <td id=\"T_8fa78_row29_col0\" class=\"data row29 col0\" >float64</td>\n",
       "      <td id=\"T_8fa78_row29_col1\" class=\"data row29 col1\" >2.133571</td>\n",
       "      <td id=\"T_8fa78_row29_col2\" class=\"data row29 col2\" >NA</td>\n",
       "      <td id=\"T_8fa78_row29_col3\" class=\"data row29 col3\" >1.000000</td>\n",
       "      <td id=\"T_8fa78_row29_col4\" class=\"data row29 col4\" >20.000000</td>\n",
       "      <td id=\"T_8fa78_row29_col5\" class=\"data row29 col5\" >2542 missing values. Impute them with mean, median, mode, or a constant value such as 123., Column has 3205 outliers greater than upper bound (6.00) or lower than lower bound(-2.00). Cap them or remove them.</td>\n",
       "    </tr>\n",
       "    <tr>\n",
       "      <th id=\"T_8fa78_level0_row30\" class=\"row_heading level0 row30\" >product_weight_g</th>\n",
       "      <td id=\"T_8fa78_row30_col0\" class=\"data row30 col0\" >float64</td>\n",
       "      <td id=\"T_8fa78_row30_col1\" class=\"data row30 col1\" >0.715946</td>\n",
       "      <td id=\"T_8fa78_row30_col2\" class=\"data row30 col2\" >NA</td>\n",
       "      <td id=\"T_8fa78_row30_col3\" class=\"data row30 col3\" >0.000000</td>\n",
       "      <td id=\"T_8fa78_row30_col4\" class=\"data row30 col4\" >40425.000000</td>\n",
       "      <td id=\"T_8fa78_row30_col5\" class=\"data row30 col5\" >853 missing values. Impute them with mean, median, mode, or a constant value such as 123., Column has 16696 outliers greater than upper bound (4050.00) or lower than lower bound(-1950.00). Cap them or remove them.</td>\n",
       "    </tr>\n",
       "    <tr>\n",
       "      <th id=\"T_8fa78_level0_row31\" class=\"row_heading level0 row31\" >product_length_cm</th>\n",
       "      <td id=\"T_8fa78_row31_col0\" class=\"data row31 col0\" >float64</td>\n",
       "      <td id=\"T_8fa78_row31_col1\" class=\"data row31 col1\" >0.715946</td>\n",
       "      <td id=\"T_8fa78_row31_col2\" class=\"data row31 col2\" >NA</td>\n",
       "      <td id=\"T_8fa78_row31_col3\" class=\"data row31 col3\" >7.000000</td>\n",
       "      <td id=\"T_8fa78_row31_col4\" class=\"data row31 col4\" >105.000000</td>\n",
       "      <td id=\"T_8fa78_row31_col5\" class=\"data row31 col5\" >853 missing values. Impute them with mean, median, mode, or a constant value such as 123., Column has 3822 outliers greater than upper bound (68.00) or lower than lower bound(-12.00). Cap them or remove them.</td>\n",
       "    </tr>\n",
       "    <tr>\n",
       "      <th id=\"T_8fa78_level0_row32\" class=\"row_heading level0 row32\" >product_height_cm</th>\n",
       "      <td id=\"T_8fa78_row32_col0\" class=\"data row32 col0\" >float64</td>\n",
       "      <td id=\"T_8fa78_row32_col1\" class=\"data row32 col1\" >0.715946</td>\n",
       "      <td id=\"T_8fa78_row32_col2\" class=\"data row32 col2\" >NA</td>\n",
       "      <td id=\"T_8fa78_row32_col3\" class=\"data row32 col3\" >2.000000</td>\n",
       "      <td id=\"T_8fa78_row32_col4\" class=\"data row32 col4\" >105.000000</td>\n",
       "      <td id=\"T_8fa78_row32_col5\" class=\"data row32 col5\" >853 missing values. Impute them with mean, median, mode, or a constant value such as 123., Column has 8101 outliers greater than upper bound (38.00) or lower than lower bound(-10.00). Cap them or remove them.</td>\n",
       "    </tr>\n",
       "    <tr>\n",
       "      <th id=\"T_8fa78_level0_row33\" class=\"row_heading level0 row33\" >product_width_cm</th>\n",
       "      <td id=\"T_8fa78_row33_col0\" class=\"data row33 col0\" >float64</td>\n",
       "      <td id=\"T_8fa78_row33_col1\" class=\"data row33 col1\" >0.715946</td>\n",
       "      <td id=\"T_8fa78_row33_col2\" class=\"data row33 col2\" >NA</td>\n",
       "      <td id=\"T_8fa78_row33_col3\" class=\"data row33 col3\" >6.000000</td>\n",
       "      <td id=\"T_8fa78_row33_col4\" class=\"data row33 col4\" >118.000000</td>\n",
       "      <td id=\"T_8fa78_row33_col5\" class=\"data row33 col5\" >853 missing values. Impute them with mean, median, mode, or a constant value such as 123., Column has 2754 outliers greater than upper bound (52.50) or lower than lower bound(-7.50). Cap them or remove them.</td>\n",
       "    </tr>\n",
       "    <tr>\n",
       "      <th id=\"T_8fa78_level0_row34\" class=\"row_heading level0 row34\" >seller_zip_code_prefix</th>\n",
       "      <td id=\"T_8fa78_row34_col0\" class=\"data row34 col0\" >float64</td>\n",
       "      <td id=\"T_8fa78_row34_col1\" class=\"data row34 col1\" >0.699160</td>\n",
       "      <td id=\"T_8fa78_row34_col2\" class=\"data row34 col2\" >NA</td>\n",
       "      <td id=\"T_8fa78_row34_col3\" class=\"data row34 col3\" >1001.000000</td>\n",
       "      <td id=\"T_8fa78_row34_col4\" class=\"data row34 col4\" >99730.000000</td>\n",
       "      <td id=\"T_8fa78_row34_col5\" class=\"data row34 col5\" >833 missing values. Impute them with mean, median, mode, or a constant value such as 123., Column has 18223 outliers greater than upper bound (60286.50) or lower than lower bound(-25885.50). Cap them or remove them.</td>\n",
       "    </tr>\n",
       "    <tr>\n",
       "      <th id=\"T_8fa78_level0_row35\" class=\"row_heading level0 row35\" >seller_city</th>\n",
       "      <td id=\"T_8fa78_row35_col0\" class=\"data row35 col0\" >object</td>\n",
       "      <td id=\"T_8fa78_row35_col1\" class=\"data row35 col1\" >0.699160</td>\n",
       "      <td id=\"T_8fa78_row35_col2\" class=\"data row35 col2\" >0</td>\n",
       "      <td id=\"T_8fa78_row35_col3\" class=\"data row35 col3\" ></td>\n",
       "      <td id=\"T_8fa78_row35_col4\" class=\"data row35 col4\" ></td>\n",
       "      <td id=\"T_8fa78_row35_col5\" class=\"data row35 col5\" >833 missing values. Impute them with mean, median, mode, or a constant value such as 123., Mixed dtypes: has 2 different data types:  object, float,, Possible high cardinality column with 611 unique values: Use hash encoding or text embedding to reduce dimension.</td>\n",
       "    </tr>\n",
       "    <tr>\n",
       "      <th id=\"T_8fa78_level0_row36\" class=\"row_heading level0 row36\" >seller_state</th>\n",
       "      <td id=\"T_8fa78_row36_col0\" class=\"data row36 col0\" >object</td>\n",
       "      <td id=\"T_8fa78_row36_col1\" class=\"data row36 col1\" >0.699160</td>\n",
       "      <td id=\"T_8fa78_row36_col2\" class=\"data row36 col2\" >0</td>\n",
       "      <td id=\"T_8fa78_row36_col3\" class=\"data row36 col3\" ></td>\n",
       "      <td id=\"T_8fa78_row36_col4\" class=\"data row36 col4\" ></td>\n",
       "      <td id=\"T_8fa78_row36_col5\" class=\"data row36 col5\" >833 missing values. Impute them with mean, median, mode, or a constant value such as 123., 17 rare categories: Too many to list. Group them into a single category or drop the categories., Mixed dtypes: has 2 different data types:  object, float,</td>\n",
       "    </tr>\n",
       "    <tr>\n",
       "      <th id=\"T_8fa78_level0_row37\" class=\"row_heading level0 row37\" >product_category_name_english</th>\n",
       "      <td id=\"T_8fa78_row37_col0\" class=\"data row37 col0\" >object</td>\n",
       "      <td id=\"T_8fa78_row37_col1\" class=\"data row37 col1\" >2.154554</td>\n",
       "      <td id=\"T_8fa78_row37_col2\" class=\"data row37 col2\" >0</td>\n",
       "      <td id=\"T_8fa78_row37_col3\" class=\"data row37 col3\" ></td>\n",
       "      <td id=\"T_8fa78_row37_col4\" class=\"data row37 col4\" ></td>\n",
       "      <td id=\"T_8fa78_row37_col5\" class=\"data row37 col5\" >2567 missing values. Impute them with mean, median, mode, or a constant value such as 123., 51 rare categories: Too many to list. Group them into a single category or drop the categories., Mixed dtypes: has 2 different data types:  object, float,</td>\n",
       "    </tr>\n",
       "    <tr>\n",
       "      <th id=\"T_8fa78_level0_row38\" class=\"row_heading level0 row38\" >order_reception_delay</th>\n",
       "      <td id=\"T_8fa78_row38_col0\" class=\"data row38 col0\" >timedelta64[ns]</td>\n",
       "      <td id=\"T_8fa78_row38_col1\" class=\"data row38 col1\" >2.871339</td>\n",
       "      <td id=\"T_8fa78_row38_col2\" class=\"data row38 col2\" >77</td>\n",
       "      <td id=\"T_8fa78_row38_col3\" class=\"data row38 col3\" ></td>\n",
       "      <td id=\"T_8fa78_row38_col4\" class=\"data row38 col4\" ></td>\n",
       "      <td id=\"T_8fa78_row38_col5\" class=\"data row38 col5\" >3421 missing values. Impute them with mean, median, mode, or a constant value such as 123., Mixed dtypes: has 2 different data types: </td>\n",
       "    </tr>\n",
       "  </tbody>\n",
       "</table>\n"
      ],
      "text/plain": [
       "<pandas.io.formats.style.Styler at 0x7f105c8b9e40>"
      ]
     },
     "metadata": {},
     "output_type": "display_data"
    },
    {
     "name": "stdout",
     "output_type": "stream",
     "text": [
      "Number of All Scatter Plots = 120\n"
     ]
    }
   ],
   "source": [
    "report = AV.AutoViz(df)"
   ]
  },
  {
   "cell_type": "code",
   "execution_count": null,
   "id": "3e903da6",
   "metadata": {
    "ExecuteTime": {
     "end_time": "2025-04-30T00:37:45.276571Z",
     "start_time": "2025-04-30T00:37:45.174049Z"
    }
   },
   "outputs": [],
   "source": []
  },
  {
   "cell_type": "code",
   "execution_count": null,
   "id": "e795ee0f",
   "metadata": {},
   "outputs": [],
   "source": []
  }
 ],
 "metadata": {
  "kernelspec": {
   "display_name": "Python 3 (ipykernel)",
   "language": "python",
   "name": "python3"
  },
  "language_info": {
   "codemirror_mode": {
    "name": "ipython",
    "version": 3
   },
   "file_extension": ".py",
   "mimetype": "text/x-python",
   "name": "python",
   "nbconvert_exporter": "python",
   "pygments_lexer": "ipython3",
   "version": "3.10.6"
  },
  "toc": {
   "base_numbering": 1,
   "nav_menu": {},
   "number_sections": true,
   "sideBar": true,
   "skip_h1_title": false,
   "title_cell": "Table of Contents",
   "title_sidebar": "Contents",
   "toc_cell": false,
   "toc_position": {},
   "toc_section_display": true,
   "toc_window_display": false
  }
 },
 "nbformat": 4,
 "nbformat_minor": 5
}
